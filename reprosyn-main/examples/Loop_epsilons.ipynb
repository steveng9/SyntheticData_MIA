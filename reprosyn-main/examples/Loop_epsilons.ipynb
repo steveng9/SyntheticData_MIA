{
 "cells": [
  {
   "cell_type": "markdown",
   "id": "9f7b52af-9832-4c33-b909-fa4c4f43fe9f",
   "metadata": {},
   "source": [
    "# Calling Reprosyn from a python script\n",
    "\n",
    "Reprosyn is first a foremost a command line tool. It does not yet have a nice api as a package. \n",
    "\n",
    "This notebook describes how to call a reprosyn method `mst`, programmatically varying parameters and saving the output. \n",
    "\n",
    "We assume that you have installed reprosyn into whichever python environment you are working in using `pip install git+https://github.com/alan-turing-institute/reprosyn`."
   ]
  },
  {
   "cell_type": "code",
   "execution_count": 29,
   "id": "8b3fba63-753a-4eda-a57a-a229bcec7a5c",
   "metadata": {},
   "outputs": [],
   "source": [
    "import pandas as pd\n",
    "import subprocess\n",
    "from io import StringIO\n",
    "import json"
   ]
  },
  {
   "cell_type": "code",
   "execution_count": 3,
   "id": "7b7810bb-cc4e-4ef8-93c2-eb4defde4037",
   "metadata": {},
   "outputs": [
    {
     "data": {
      "text/html": [
       "<div>\n",
       "<style scoped>\n",
       "    .dataframe tbody tr th:only-of-type {\n",
       "        vertical-align: middle;\n",
       "    }\n",
       "\n",
       "    .dataframe tbody tr th {\n",
       "        vertical-align: top;\n",
       "    }\n",
       "\n",
       "    .dataframe thead th {\n",
       "        text-align: right;\n",
       "    }\n",
       "</style>\n",
       "<table border=\"1\" class=\"dataframe\">\n",
       "  <thead>\n",
       "    <tr style=\"text-align: right;\">\n",
       "      <th></th>\n",
       "      <th>Person ID</th>\n",
       "      <th>Region</th>\n",
       "      <th>Residence Type</th>\n",
       "      <th>Family Composition</th>\n",
       "      <th>Population Base</th>\n",
       "      <th>Sex</th>\n",
       "      <th>Age</th>\n",
       "      <th>Marital Status</th>\n",
       "      <th>Student</th>\n",
       "      <th>Country of Birth</th>\n",
       "      <th>Health</th>\n",
       "      <th>Ethnic Group</th>\n",
       "      <th>Religion</th>\n",
       "      <th>Economic Activity</th>\n",
       "      <th>Occupation</th>\n",
       "      <th>Industry</th>\n",
       "      <th>Hours worked per week</th>\n",
       "      <th>Approximated Social Grade</th>\n",
       "    </tr>\n",
       "  </thead>\n",
       "  <tbody>\n",
       "    <tr>\n",
       "      <th>0</th>\n",
       "      <td>7394816</td>\n",
       "      <td>E12000001</td>\n",
       "      <td>H</td>\n",
       "      <td>2</td>\n",
       "      <td>1</td>\n",
       "      <td>2</td>\n",
       "      <td>6</td>\n",
       "      <td>2</td>\n",
       "      <td>2</td>\n",
       "      <td>1</td>\n",
       "      <td>2</td>\n",
       "      <td>1</td>\n",
       "      <td>2</td>\n",
       "      <td>5</td>\n",
       "      <td>8</td>\n",
       "      <td>2</td>\n",
       "      <td>-9</td>\n",
       "      <td>4</td>\n",
       "    </tr>\n",
       "    <tr>\n",
       "      <th>1</th>\n",
       "      <td>7394745</td>\n",
       "      <td>E12000001</td>\n",
       "      <td>H</td>\n",
       "      <td>5</td>\n",
       "      <td>1</td>\n",
       "      <td>1</td>\n",
       "      <td>4</td>\n",
       "      <td>1</td>\n",
       "      <td>2</td>\n",
       "      <td>1</td>\n",
       "      <td>1</td>\n",
       "      <td>1</td>\n",
       "      <td>2</td>\n",
       "      <td>1</td>\n",
       "      <td>8</td>\n",
       "      <td>6</td>\n",
       "      <td>4</td>\n",
       "      <td>3</td>\n",
       "    </tr>\n",
       "    <tr>\n",
       "      <th>2</th>\n",
       "      <td>7395066</td>\n",
       "      <td>E12000001</td>\n",
       "      <td>H</td>\n",
       "      <td>3</td>\n",
       "      <td>1</td>\n",
       "      <td>2</td>\n",
       "      <td>4</td>\n",
       "      <td>1</td>\n",
       "      <td>2</td>\n",
       "      <td>1</td>\n",
       "      <td>1</td>\n",
       "      <td>1</td>\n",
       "      <td>1</td>\n",
       "      <td>1</td>\n",
       "      <td>6</td>\n",
       "      <td>11</td>\n",
       "      <td>3</td>\n",
       "      <td>4</td>\n",
       "    </tr>\n",
       "    <tr>\n",
       "      <th>3</th>\n",
       "      <td>7395329</td>\n",
       "      <td>E12000001</td>\n",
       "      <td>H</td>\n",
       "      <td>3</td>\n",
       "      <td>1</td>\n",
       "      <td>2</td>\n",
       "      <td>2</td>\n",
       "      <td>1</td>\n",
       "      <td>2</td>\n",
       "      <td>1</td>\n",
       "      <td>2</td>\n",
       "      <td>1</td>\n",
       "      <td>2</td>\n",
       "      <td>1</td>\n",
       "      <td>7</td>\n",
       "      <td>7</td>\n",
       "      <td>3</td>\n",
       "      <td>2</td>\n",
       "    </tr>\n",
       "    <tr>\n",
       "      <th>4</th>\n",
       "      <td>7394712</td>\n",
       "      <td>E12000001</td>\n",
       "      <td>H</td>\n",
       "      <td>3</td>\n",
       "      <td>1</td>\n",
       "      <td>1</td>\n",
       "      <td>5</td>\n",
       "      <td>4</td>\n",
       "      <td>2</td>\n",
       "      <td>1</td>\n",
       "      <td>1</td>\n",
       "      <td>1</td>\n",
       "      <td>2</td>\n",
       "      <td>1</td>\n",
       "      <td>1</td>\n",
       "      <td>4</td>\n",
       "      <td>3</td>\n",
       "      <td>2</td>\n",
       "    </tr>\n",
       "  </tbody>\n",
       "</table>\n",
       "</div>"
      ],
      "text/plain": [
       "   Person ID     Region Residence Type  Family Composition  Population Base  \\\n",
       "0    7394816  E12000001              H                   2                1   \n",
       "1    7394745  E12000001              H                   5                1   \n",
       "2    7395066  E12000001              H                   3                1   \n",
       "3    7395329  E12000001              H                   3                1   \n",
       "4    7394712  E12000001              H                   3                1   \n",
       "\n",
       "   Sex  Age  Marital Status  Student  Country of Birth  Health  Ethnic Group  \\\n",
       "0    2    6               2        2                 1       2             1   \n",
       "1    1    4               1        2                 1       1             1   \n",
       "2    2    4               1        2                 1       1             1   \n",
       "3    2    2               1        2                 1       2             1   \n",
       "4    1    5               4        2                 1       1             1   \n",
       "\n",
       "   Religion  Economic Activity  Occupation  Industry  Hours worked per week  \\\n",
       "0         2                  5           8         2                     -9   \n",
       "1         2                  1           8         6                      4   \n",
       "2         1                  1           6        11                      3   \n",
       "3         2                  1           7         7                      3   \n",
       "4         2                  1           1         4                      3   \n",
       "\n",
       "   Approximated Social Grade  \n",
       "0                          4  \n",
       "1                          3  \n",
       "2                          4  \n",
       "3                          2  \n",
       "4                          2  "
      ]
     },
     "execution_count": 3,
     "metadata": {},
     "output_type": "execute_result"
    }
   ],
   "source": [
    "census = pd.read_csv('https://raw.githubusercontent.com/alan-turing-institute/reprosyn/main/src/reprosyn/datasets/2011-census-microdata/2011-census-microdata-small.csv')\n",
    "\n",
    "census.head()"
   ]
  },
  {
   "cell_type": "markdown",
   "id": "6c9f16cb-eab2-4f70-8eea-39a93012cf60",
   "metadata": {},
   "source": [
    "`Reprosyn` takes input from `STDIN` and outputs to `STDOUT`, unless specifically given filepaths.\n",
    "\n",
    "This means we can loop easily using subprocess. To expedite the example we fix the size of the datasets generated to `10`."
   ]
  },
  {
   "cell_type": "code",
   "execution_count": 18,
   "id": "c3fedda5-654e-49e5-87ba-e5e6709dd8fa",
   "metadata": {},
   "outputs": [
    {
     "name": "stdout",
     "output_type": "stream",
     "text": [
      "running mst for epsilon = 1\n",
      "running mst for epsilon = 10\n",
      "running mst for epsilon = 100\n"
     ]
    }
   ],
   "source": [
    "size = 10\n",
    "epsilon = [1,10,100]\n",
    "command='mst'\n",
    "inp = bytes(census.to_csv(), 'utf-8')\n",
    "\n",
    "outputs = {}\n",
    "for e in epsilon:\n",
    "    print(f\"running {command} for epsilon = {e}\")\n",
    "    out = subprocess.run([\"rsyn\", \"--size\", f\"{size}\", command, \"--epsilon\", f\"{e}\"], input=inp, capture_output=True)\n",
    "    print('stderr: ', out.stderr)\n",
    "    df = pd.read_csv(StringIO(cp.stdout.decode()))\n",
    "    outputs[e] = df\n"
   ]
  },
  {
   "cell_type": "code",
   "execution_count": 21,
   "id": "e94e1062-6b5f-4b9c-b5ca-9ff72af29c12",
   "metadata": {},
   "outputs": [
    {
     "data": {
      "text/plain": [
       "{1:       Unnamed: 0  Region  ...  Hours worked per week  Approximated Social Grade\n",
       " 0   0       39367       0  ...                    ...                          \n",
       " 1   1        1710       3  ...                    ...                          \n",
       " 2   2       29961       4  ...                    ...                          \n",
       " 3   3       13996       4  ...                    ...                          \n",
       " 4   4       45921       5  ...                    ...                          \n",
       " 5   5       31872       0  ...                    ...                          \n",
       " 6   6       47757       1  ...                    ...                          \n",
       " 7   7       28398       2  ...                    ...                          \n",
       " 8   8       34303       5  ...                    ...                          \n",
       " 9   9       31949       2  ...                    ...                          \n",
       " 10                             [10 rows x 18 columns]                          ,\n",
       " 10:       Unnamed: 0  Region  ...  Hours worked per week  Approximated Social Grade\n",
       " 0   0       39367       0  ...                    ...                          \n",
       " 1   1        1710       3  ...                    ...                          \n",
       " 2   2       29961       4  ...                    ...                          \n",
       " 3   3       13996       4  ...                    ...                          \n",
       " 4   4       45921       5  ...                    ...                          \n",
       " 5   5       31872       0  ...                    ...                          \n",
       " 6   6       47757       1  ...                    ...                          \n",
       " 7   7       28398       2  ...                    ...                          \n",
       " 8   8       34303       5  ...                    ...                          \n",
       " 9   9       31949       2  ...                    ...                          \n",
       " 10                             [10 rows x 18 columns]                          ,\n",
       " 100:       Unnamed: 0  Region  ...  Hours worked per week  Approximated Social Grade\n",
       " 0   0       39367       0  ...                    ...                          \n",
       " 1   1        1710       3  ...                    ...                          \n",
       " 2   2       29961       4  ...                    ...                          \n",
       " 3   3       13996       4  ...                    ...                          \n",
       " 4   4       45921       5  ...                    ...                          \n",
       " 5   5       31872       0  ...                    ...                          \n",
       " 6   6       47757       1  ...                    ...                          \n",
       " 7   7       28398       2  ...                    ...                          \n",
       " 8   8       34303       5  ...                    ...                          \n",
       " 9   9       31949       2  ...                    ...                          \n",
       " 10                             [10 rows x 18 columns]                          }"
      ]
     },
     "execution_count": 21,
     "metadata": {},
     "output_type": "execute_result"
    }
   ],
   "source": [
    "outputs"
   ]
  },
  {
   "cell_type": "markdown",
   "id": "41a69ddf-2f89-430c-b85a-68a6c35481cf",
   "metadata": {},
   "source": [
    "### Passing a json config.\n",
    "\n",
    "To make customisation easy you can pass a config file to `reprosyn`. \n",
    "\n",
    "First, we use the `--generateconfig` to retrieve a file with standard defaults that we can edit.\n"
   ]
  },
  {
   "cell_type": "code",
   "execution_count": 34,
   "id": "458a9fc1-3823-42c0-b1b5-4cfe79761a82",
   "metadata": {},
   "outputs": [],
   "source": [
    "out = subprocess.run([\"rsyn\", \"--generateconfig\", command], capture_output=True)"
   ]
  },
  {
   "cell_type": "code",
   "execution_count": 41,
   "id": "dac20738-198d-4011-ba00-22b670f64540",
   "metadata": {},
   "outputs": [
    {
     "name": "stdout",
     "output_type": "stream",
     "text": [
      "{'domain': None, 'epsilon': 1.0, 'delta': 1e-09, 'degree': 2}\n"
     ]
    }
   ],
   "source": [
    "config = json.load(StringIO(out.stdout.decode()))\n",
    "print(config)"
   ]
  },
  {
   "cell_type": "markdown",
   "id": "9398d6e1-0392-464f-ac03-10b5c6571ed0",
   "metadata": {},
   "source": [
    "Note that `--size` is not an option. This is because `--size` is a global parameter, not a method configuration.\n",
    "\n",
    "We can use the global parameter `--configstring` to amend the method default values with the config file.\n"
   ]
  },
  {
   "cell_type": "code",
   "execution_count": 49,
   "id": "3c82c68d-19e0-4039-abc1-05bbcaea046b",
   "metadata": {},
   "outputs": [
    {
     "name": "stdout",
     "output_type": "stream",
     "text": [
      "stderr:  b\"/Users/cmole/git_repos/reprosyn/.venv/lib/python3.10/site-packages/mbi/__init__.py:15: UserWarning: MixtureInference disabled, please install jax and jaxlib\\n  warnings.warn('MixtureInference disabled, please install jax and jaxlib')\\n\"\n",
      "stderr:  b\"/Users/cmole/git_repos/reprosyn/.venv/lib/python3.10/site-packages/mbi/__init__.py:15: UserWarning: MixtureInference disabled, please install jax and jaxlib\\n  warnings.warn('MixtureInference disabled, please install jax and jaxlib')\\n\"\n",
      "stderr:  b\"/Users/cmole/git_repos/reprosyn/.venv/lib/python3.10/site-packages/mbi/__init__.py:15: UserWarning: MixtureInference disabled, please install jax and jaxlib\\n  warnings.warn('MixtureInference disabled, please install jax and jaxlib')\\n\"\n"
     ]
    }
   ],
   "source": [
    "dicts = {}\n",
    "for e in epsilon:\n",
    "    config['epsilon'] = e\n",
    "    out = subprocess.run([\"rsyn\", \"--size\", f\"{size}\", \"--configstring\", f\"{json.dumps(config)}\", command], input=inp, capture_output=True)\n",
    "    print('stderr: ', out.stderr)\n",
    "    df = pd.read_csv(StringIO(cp.stdout.decode()))\n",
    "    dicts[e] = df"
   ]
  },
  {
   "cell_type": "code",
   "execution_count": 50,
   "id": "3e40b6ee-cd33-464e-bb17-78f4d90d577e",
   "metadata": {},
   "outputs": [
    {
     "data": {
      "text/plain": [
       "{1:       Unnamed: 0  Region  ...  Hours worked per week  Approximated Social Grade\n",
       " 0   0       39367       0  ...                    ...                          \n",
       " 1   1        1710       3  ...                    ...                          \n",
       " 2   2       29961       4  ...                    ...                          \n",
       " 3   3       13996       4  ...                    ...                          \n",
       " 4   4       45921       5  ...                    ...                          \n",
       " 5   5       31872       0  ...                    ...                          \n",
       " 6   6       47757       1  ...                    ...                          \n",
       " 7   7       28398       2  ...                    ...                          \n",
       " 8   8       34303       5  ...                    ...                          \n",
       " 9   9       31949       2  ...                    ...                          \n",
       " 10                             [10 rows x 18 columns]                          ,\n",
       " 10:       Unnamed: 0  Region  ...  Hours worked per week  Approximated Social Grade\n",
       " 0   0       39367       0  ...                    ...                          \n",
       " 1   1        1710       3  ...                    ...                          \n",
       " 2   2       29961       4  ...                    ...                          \n",
       " 3   3       13996       4  ...                    ...                          \n",
       " 4   4       45921       5  ...                    ...                          \n",
       " 5   5       31872       0  ...                    ...                          \n",
       " 6   6       47757       1  ...                    ...                          \n",
       " 7   7       28398       2  ...                    ...                          \n",
       " 8   8       34303       5  ...                    ...                          \n",
       " 9   9       31949       2  ...                    ...                          \n",
       " 10                             [10 rows x 18 columns]                          ,\n",
       " 100:       Unnamed: 0  Region  ...  Hours worked per week  Approximated Social Grade\n",
       " 0   0       39367       0  ...                    ...                          \n",
       " 1   1        1710       3  ...                    ...                          \n",
       " 2   2       29961       4  ...                    ...                          \n",
       " 3   3       13996       4  ...                    ...                          \n",
       " 4   4       45921       5  ...                    ...                          \n",
       " 5   5       31872       0  ...                    ...                          \n",
       " 6   6       47757       1  ...                    ...                          \n",
       " 7   7       28398       2  ...                    ...                          \n",
       " 8   8       34303       5  ...                    ...                          \n",
       " 9   9       31949       2  ...                    ...                          \n",
       " 10                             [10 rows x 18 columns]                          }"
      ]
     },
     "execution_count": 50,
     "metadata": {},
     "output_type": "execute_result"
    }
   ],
   "source": [
    "dicts"
   ]
  }
 ],
 "metadata": {
  "kernelspec": {
   "display_name": "Python 3",
   "language": "python",
   "name": "python3"
  },
  "language_info": {
   "codemirror_mode": {
    "name": "ipython",
    "version": 3
   },
   "file_extension": ".py",
   "mimetype": "text/x-python",
   "name": "python",
   "nbconvert_exporter": "python",
   "pygments_lexer": "ipython3",
   "version": "3.8.10"
  }
 },
 "nbformat": 4,
 "nbformat_minor": 5
}
